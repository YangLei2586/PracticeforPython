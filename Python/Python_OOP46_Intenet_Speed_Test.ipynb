{
 "cells": [
  {
   "cell_type": "code",
   "execution_count": null,
   "metadata": {},
   "outputs": [],
   "source": [
    "pip install speedtest"
   ]
  },
  {
   "cell_type": "code",
   "execution_count": null,
   "metadata": {},
   "outputs": [],
   "source": [
    "import speedtest as st\n",
    "\n",
    "def Speed_Test():\n",
    "    test = st.Speedtest()\n",
    "    \n",
    "    down_speed = test.downloan()\n",
    "    down_speed = round(down_speed/10**6,2)\n",
    "    print(\"Download Speed in Mbps: \",down_speed)\n",
    "    \n",
    "    up_speed = test.upload()\n",
    "    up_speed = round(up_speed /10**6,2)\n",
    "    print(\"Upload Speed in Mbps: \", up_speed )\n",
    "    \n",
    "    ping = test.results.ping\n",
    "    print(\"Ping:\", ping)\n",
    "Speed_Test()"
   ]
  },
  {
   "cell_type": "code",
   "execution_count": null,
   "metadata": {},
   "outputs": [],
   "source": []
  }
 ],
 "metadata": {
  "kernelspec": {
   "display_name": "Python 3",
   "language": "python",
   "name": "python3"
  },
  "language_info": {
   "codemirror_mode": {
    "name": "ipython",
    "version": 3
   },
   "file_extension": ".py",
   "mimetype": "text/x-python",
   "name": "python",
   "nbconvert_exporter": "python",
   "pygments_lexer": "ipython3",
   "version": "3.8.5"
  }
 },
 "nbformat": 4,
 "nbformat_minor": 4
}
